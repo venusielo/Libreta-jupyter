{
  "cells": [
    {
      "cell_type": "markdown",
      "metadata": {
        "id": "cmJH6ssI__KA"
      },
      "source": [
        "# Introducción a Numpy y Matplotlib\n",
        "\n",
        "**Curso Inteligencia Artificial 2025-1**"
      ]
    },
    {
      "cell_type": "markdown",
      "metadata": {
        "id": "yf40ETH0__KF"
      },
      "source": [
        "## Inicialización de una libreta"
      ]
    },
    {
      "cell_type": "markdown",
      "metadata": {
        "id": "0EMinS3i__KG"
      },
      "source": [
        "Vamos a introducir Numpy y Matplotlib, librerías para matemáticas y graficación, desde una libreta tipo *Jupyter*. Esta la puedes descargar y ejecutar en tu propia computadora, usando un editor de texto como VSCode, o inicializando Jupyter en linea de comando. Una opción muy popular es ejecutar la libreta en [Colaboratory](https://colab.google) de Google (que te permite ejecutar libretas en linea si cuantas con una cuenta de *Google*). Para ejecutar esta libreta en particular, lo puedes hacer [desde este enlace](https://colab.research.google.com/github/IA-UNISON/3-Aprendizaje/blob/main/Introducción%20a%20Numpy%20y%20Matplotlib.ipynb).\n",
        "\n",
        "Para inicializar la libreta y poderla utilizar con `numpy` y `matplotlib`, y asegurarse que los gráficos se presenten donde deben de estar es necesario ejecutar las siguientes instrucciones:"
      ]
    },
    {
      "cell_type": "code",
      "execution_count": 1,
      "metadata": {
        "id": "G28zw_c6__KI"
      },
      "outputs": [],
      "source": [
        "import numpy as np\n",
        "import matplotlib.pyplot as plt\n",
        "\n",
        "# Para insertar las gráficas dentro del entorno\n",
        "%matplotlib inline\n"
      ]
    },
    {
      "cell_type": "markdown",
      "metadata": {
        "id": "Z1kEi-mH__KL"
      },
      "source": [
        "Recuerda que hay que ejecutar cada celda (cell) con *ctrl-enter* o con el simbolo de la flechita arriba de la libreta.\n",
        "\n",
        "La linea que empieza con `%` es un tipo de comando conocidos como *comandos mágicos*. En este comando le especificamos a la libreta que vamos a utilizar matplotlib para hacer gráficas y que queremos que las anexe dentro del documento. Existen muchos comandos mágicos, algunos muy útiles que vamos a ir viendo sobre la marcha. Para una explicacion completa está [esta libreta](http://nbviewer.ipython.org/github/ipython/ipython/blob/1.x/examples/notebooks/Cell%20Magics.ipynb).\n"
      ]
    },
    {
      "cell_type": "markdown",
      "metadata": {
        "id": "Qiyjllj-__KM"
      },
      "source": [
        "En Jupyter existen varias funciones que se llaman *mágicas* las cuales empiezan siempre con %. La más común es `%matplotlib inline` para realizar gráficas dentro de la libreta y no que las genere en forma independiente. Otras muy usadas son %time Para calcular el tiempo que tarda en ejecitarse una celda, y %prun para hacer profile de la celda.\n",
        "\n",
        "Por ejemplo"
      ]
    },
    {
      "cell_type": "code",
      "execution_count": null,
      "metadata": {
        "id": "_-Cy9_Ei__KM"
      },
      "outputs": [],
      "source": [
        "%time sum([x for x in range(100000)])"
      ]
    },
    {
      "cell_type": "code",
      "execution_count": null,
      "metadata": {
        "id": "pWs0uUHe__KN"
      },
      "outputs": [],
      "source": [
        "%prun sum([x for x in range(100000)])"
      ]
    },
    {
      "cell_type": "markdown",
      "metadata": {
        "id": "AysqdMiJ__KO"
      },
      "source": [
        "En general los comandos mágicos se pueden consultar con otro comando mágico"
      ]
    },
    {
      "cell_type": "code",
      "execution_count": null,
      "metadata": {
        "collapsed": true,
        "id": "ILCZ19Nr__KP"
      },
      "outputs": [],
      "source": [
        "%quickref"
      ]
    },
    {
      "cell_type": "markdown",
      "metadata": {
        "id": "56n89wSN__KQ"
      },
      "source": [
        "## Inicializando variables en Numpy"
      ]
    },
    {
      "cell_type": "markdown",
      "metadata": {
        "id": "h0wWl_9C__KQ"
      },
      "source": [
        "Numpy agrega a python básicamente dos nuevos tipos o clases, de los cuales solo nos vamos a interesar por los arreglos multidimensionales o `ndarray`. La manera más sencilla de crear un array (vector o matriz) es utilizando `array` como:"
      ]
    },
    {
      "cell_type": "code",
      "execution_count": null,
      "metadata": {
        "id": "q3zfPGbV__KS"
      },
      "outputs": [],
      "source": [
        "# Crea un objeto vector\n",
        "vector_a = np.array([1, 3.1416, 40, 0, 2, 5])\n",
        "print(f\"vector a = {vector_a}\")\n",
        "\n",
        "# Crea una matriz\n",
        "matriz_A = np.array([[1, 2], [3, 4], [5, 6]])\n",
        "print(f\"matriz A = {matriz_A}\")"
      ]
    },
    {
      "cell_type": "markdown",
      "metadata": {
        "id": "42ddZyKa__KS"
      },
      "source": [
        "Esta es la manera más directa pero no la única (y en muchos casos la mas usada) para crear nuevos vectores multidimensionales. Existen otras maneras de generar arreglos como son las funciones:\n",
        "\n",
        "* `arange(ini=0, fin, inc=1)`: Devuelve un ndarray iniciando en `ini` y terminando en `fin`, con incrementos de inc\n",
        "\n",
        "* `zeros(dim)`: Devuelve un ndarray de dimensión `dim` (si es un escalar se considera un vector, si es una tupla de números entonces son las dimensiones del ndarray), con todas sus entradas en cero.\n",
        "      \n",
        "* `ones(dim)`: Similar a `zeros()` pero con unos.\n",
        "    \n",
        "* `eye(x, y=none)`: si solo se tiene el argumento `x` devuelve una matriz identidad de $x \\times x$. Si se encuentra `y`, entonces una matriz diagonal rectangular de dimensión x por y.\n",
        "      \n",
        "* `zeros_like( x )`: Un ndarray de ceros de la misma dimensión que `x` (igual existe `ones_like`).\n",
        "    \n",
        "* `linspace(inicial, final, elementos)`: Devuelve un ndarray de una dimensión iniciando en inicial, hasta final de\n",
        "manera que existan elementos numeros igualmente espaciados. Muy útil para graficación principalmente.\n",
        "      \n",
        "* `random.rand(dim1, dim2, ...)`: Devuelve un ndarray de dimensiones `dim1` por `dim2` por ... con números aleatorios\n",
        "generados por una distribución uniforme entre 0 y 1.\n",
        "      \n",
        "Veamos unos cuantos ejemplos:"
      ]
    },
    {
      "cell_type": "code",
      "execution_count": null,
      "metadata": {
        "id": "kq3zGH_9__KT"
      },
      "outputs": [],
      "source": [
        "vZ = np.zeros(5)\n",
        "print(f\"Un vector de ceros con 5 valores \\n {vZ}\")"
      ]
    },
    {
      "cell_type": "code",
      "execution_count": null,
      "metadata": {
        "id": "Bz5u9bAF__KT"
      },
      "outputs": [],
      "source": [
        "mO = np.ones((3, 10))\n",
        "print(f\"Una matriz de 3 x 10 de puron unos, \\n {mO}\")"
      ]
    },
    {
      "cell_type": "code",
      "execution_count": null,
      "metadata": {
        "id": "TYFXAjW5__KT"
      },
      "outputs": [],
      "source": [
        "va = np.arange(10)\n",
        "print(f\"va = \\n {va}\")"
      ]
    },
    {
      "cell_type": "code",
      "execution_count": 7,
      "metadata": {
        "colab": {
          "base_uri": "https://localhost:8080/"
        },
        "id": "a1WnXBqJ__KU",
        "outputId": "3e53ac10-cf29-41df-a2f9-2fa87f99bde0"
      },
      "outputs": [
        {
          "output_type": "stream",
          "name": "stdout",
          "text": [
            "vb = \n",
            " [20 15 10  5  0 -5]\n"
          ]
        }
      ],
      "source": [
        "vb = np.arange(20, -10, -5)\n",
        "print(f\"vb = \\n {vb}\")"
      ]
    },
    {
      "cell_type": "code",
      "execution_count": null,
      "metadata": {
        "id": "cfVvheDB__KU"
      },
      "outputs": [],
      "source": [
        "print(\"Y una matriz de ceros de las dimensiones de mO:\")\n",
        "print(np.zeros_like(mO))"
      ]
    },
    {
      "cell_type": "code",
      "execution_count": null,
      "metadata": {
        "id": "YrNmSf_r__KU"
      },
      "outputs": [],
      "source": [
        "mA = np.random.rand(5, 12)\n",
        "print(\"Y una matriz con números aleatorios bajo una distribución uniforme entre 0 y 1\")\n",
        "print(mA)"
      ]
    },
    {
      "cell_type": "markdown",
      "metadata": {
        "id": "74IQ1RO6__KU"
      },
      "source": [
        "### Primer problema a resolver :"
      ]
    },
    {
      "cell_type": "markdown",
      "metadata": {
        "id": "i5xqyU67__KV"
      },
      "source": [
        "En la siguiente celda (o puedes crear las que consideres convenientes) crea las siguientes matrices:\n",
        "\n",
        "* Una matriz de 4 por 6 con valores aleatorios de acuerdo a una distribución normal con media cero y varianza unitaria.\n",
        "    \n",
        "* Un vector de 10 elementos con valores aleatorios de números enteros entre 4 y 100\n",
        "    \n",
        "* Una matriz diagonal de 5 por 5 cuyos elementos de la diagonal sean (1, 2, 3, 4, 5)"
      ]
    },
    {
      "cell_type": "code",
      "execution_count": 10,
      "metadata": {
        "colab": {
          "base_uri": "https://localhost:8080/"
        },
        "id": "YDSDe356__KV",
        "outputId": "bd491f85-6f5d-44cf-ab44-4487301ae6a6"
      },
      "outputs": [
        {
          "output_type": "stream",
          "name": "stdout",
          "text": [
            "[42 72 86 92 21 45 48 95 70 75]\n",
            "1\n",
            "2\n",
            "3\n",
            "4\n"
          ]
        }
      ],
      "source": [
        "# Introduce aqui tus respuestas\n",
        "\n",
        "mA1 = np.random.normal(0, 1, (4, 6))\n",
        "\n",
        "#v = np.linspace(4, 100, 10)\n",
        "#print(v)\n",
        "\n",
        "v = np.random.randint(4, 101, 10)\n",
        "#print(v)\n",
        "\n",
        "\n",
        "indice = 1\n",
        "mA2 = np.zeros((5, 5))\n",
        "\n",
        "\n",
        "\n",
        "#Recuerda probar con el autocompletado de las celdas, así como la documentación en linea"
      ]
    },
    {
      "cell_type": "markdown",
      "metadata": {
        "id": "XQ2NKNwI__KV"
      },
      "source": [
        "## Operaciones básicas de los ndarray"
      ]
    },
    {
      "cell_type": "markdown",
      "metadata": {
        "id": "EFHpRoqk__KV"
      },
      "source": [
        "La mayoría de las operaciones que se pueden aplicar en los ndarray se encuenran en el espacio de nombres de np, y las cuales son bastante directas tal como:\n",
        "\n",
        "    b = np.sin(a)\n",
        "\n",
        "la cual devuelve en b un ndarray de las mismas dimensiones que a, cuyas entradas son el seno de las entradas de a (en radianes).\n",
        "Así, parece inecesario explicar las funciones cos, tan, tanh, acos, asin, etc..\n",
        "\n",
        "Otras funciones muy útiles no son tan directas. Veamos algunas:\n",
        "\n",
        "    c = a + b\n",
        "\n",
        "es la suma de dos ndarray, bastante obvio, lo que no lo es tanto es:\n",
        "\n",
        "    c = a * b\n",
        "\n",
        "la cual es un ndarray resultante de la *multiplicación punto a punto* de los elementos de a y b, asumiendo que ambos tienen\n",
        "las mismas diensiones. ¿Y para aplicar un producto matricial? Pues se utiliza el comando dot (o producto punto) el cual puede ser\n",
        "expresado de tres formas:\n",
        "\n",
        "    c = np.dot(a, b)\n",
        "    c = a.dot(b)\n",
        "    c = a @ b\n",
        "\n",
        "La suma de los elementos de un ndarray tambien es un método del objeto (como min, max, argmin, argmax, etc...) que tambien se pueden llamar de dos maneras diferentes (al menos):\n",
        "\n",
        "    b = a.sum()\n",
        "    b = np.sum(a)\n",
        "\n",
        "es la suma de *todos los elementos del array* mientras que\n",
        "\n",
        "    b = a.sum(axis=0)\n",
        "    b = np.sum(a, axis=0)\n",
        "\n",
        "es un ndarray con una dimensión menos que a, con la suma de las columnas. Veamos unos ejemplos:"
      ]
    },
    {
      "cell_type": "code",
      "execution_count": null,
      "metadata": {
        "id": "TrrJ3ENZ__KW"
      },
      "outputs": [],
      "source": [
        "# Vamos a generar varios ndarrays\n",
        "a = np.array([[1, 2, 3], [4, 5, 6]])\n",
        "b = np.random.rand(2, 3)\n",
        "\n",
        "print(f\"a = {a}\")\n",
        "print(f\"b = {b}\")\n",
        "print(f\"Suma de todos los números de b = {b.sum()}\")\n",
        "print(f\"Media de cada columna de a = {a.mean(axis=0)}\")\n",
        "print(f\"Transpuesta de a, forma larga \\n a.transpose()\")\n",
        "print(f\"Transpuesta de a, forma preferida \\n a.T\")\n",
        "\n",
        "print(f\"10 * b = {10 * b}\")\n",
        "print(f\"a * b = {a * b}\")\n",
        "\n",
        "print(f\"2 elevado a la matriz a = {np.power(2, a)}\")\n",
        "print(f\"a elevada al cuadrado (elemento a elemento)\")\n",
        "print(np.power(a, 2))\n",
        "\n",
        "print(f\"a.dot(b.T) = {a.dot(b.T)}\")\n",
        "print(f\"a.dot(b) debería dar error {a.dot(b)}\")"
      ]
    },
    {
      "cell_type": "markdown",
      "metadata": {
        "id": "VQ7bUQTv__KW"
      },
      "source": [
        "Como vemos tenemos aqui una bateria completa de funciones, las cuales se aplican en un ndarray. ¿Pero que información tengo de un ndarray? ¿Como puedo componer un ndarray a partir de otros?  Asumamos por ejemplo un ndarray de una dimensión:"
      ]
    },
    {
      "cell_type": "code",
      "execution_count": null,
      "metadata": {
        "id": "9HgexXPa__KW"
      },
      "outputs": [],
      "source": [
        "#Generamos el ndarray\n",
        "a = np.arange(100)\n",
        "\n",
        "# Checamos algunas propiedades\n",
        "print(f\"El número de dimensiones de a es: {a.ndim}\")\n",
        "print(f\"Y su forma es {a.shape}\")\n",
        "print(f\"Y tiene {a.size} elementos\")\n",
        "\n",
        "#Generamos algunos ndarrays a partir de a\n",
        "b, c = a[:20], a[20:]\n",
        "d, e = a[-1:-10:-1], a[10:11]\n",
        "f = a[::-1]\n",
        "g = a[a % 5 == 0]\n",
        "h = f[[1, 15, 60]]\n",
        "\n",
        "# Ahora trata de inferir que es lo que debe contener cada array b, c, d, e, f, g, h sin hacer ninguna prueba.\n",
        "\n",
        "# Agrega ahora los print que consideres necesarios para verificar que valores tiene b, c, d, e, f, g, h"
      ]
    },
    {
      "cell_type": "markdown",
      "metadata": {
        "id": "io5bXlmd__Kb"
      },
      "source": [
        "A partir de una matriz (un ndarray de dos dimensiones) se pueden ejemplificar otras cosas, por ejemplo:"
      ]
    },
    {
      "cell_type": "code",
      "execution_count": null,
      "metadata": {
        "id": "8NwlLoLI__Kb"
      },
      "outputs": [],
      "source": [
        "#Generamos un arreglo con 100 valores equiespaciados del seno desde 0 a 2$\\pi$\n",
        "a = np.sin(np.linspace(0, 2 * np.pi, 100))\n",
        "\n",
        "#Lo convertimos en una matriz de 10 por *lo que sea*, donde *lo que sea* es 10 en este caso,\n",
        "b = a.reshape((10, -1))\n",
        "print(\"b queda como: \",b)\n",
        "print(f\"donde b tiene {b.ndim} dimensiones, con una forma {b.shape} y con {b.size} elementos.\")"
      ]
    },
    {
      "cell_type": "code",
      "execution_count": null,
      "metadata": {
        "id": "B71dmkYl__Kc"
      },
      "outputs": [],
      "source": [
        "#Si queremos convertir un ndarray a un array de una sola dimension (desenrrollar la matriz podría ser el término)\n",
        "c = b.ravel()\n",
        "\n",
        "print(\"La diferencia de a y c sería\")\n",
        "print((a - c).sum())"
      ]
    },
    {
      "cell_type": "code",
      "execution_count": null,
      "metadata": {
        "id": "klv_sdQQ__Kc"
      },
      "outputs": [],
      "source": [
        "# Si queremos hacer que un vector se comporte como un vector renglon\n",
        "a = np.arange(30).reshape(1,-1)\n",
        "print(f\"a es de forma {a.shape}\")\n",
        "\n",
        "# Y si queremos que sea un vector columna hacemos esto\n",
        "b = np.linspace(30, 35, 30).reshape(-1,1)\n",
        "print(f\"b es de forma {b.shape}\")\n",
        "\n",
        "# Y para hacer una concatenacion de columnas entonces utilizamps la forma especial np.c[]\n",
        "c = np.c_[a.T, b]\n",
        "print(f\"c es de forma {c.shape}\")\n",
        "\n",
        "#Y una concatenación de renglones es por lo tanto\n",
        "d = np.r_[a, b.T]\n",
        "print(f\"d es de forma {d.shape}\")"
      ]
    },
    {
      "cell_type": "markdown",
      "metadata": {
        "id": "vCwmMCEv__Kd"
      },
      "source": [
        "### Segundo problema a resolver"
      ]
    },
    {
      "cell_type": "markdown",
      "metadata": {
        "id": "GPmpHt7G__Ke"
      },
      "source": [
        "Realiza lo siguiente:\n",
        "\n",
        "* Genera una matriz de 100 por 5 de forma que en cada columna tengamos lo siguiente:\n",
        "    \n",
        "    - En la primer columna los valores entre -1 y 1, equiespaciados\n",
        "    - En la segunda columna el valor de seno para los valores de la primer columna\n",
        "    - En la tercer columna el valor de la función logística de los valores de la primer columna, la cual es $g(x) = \\frac{1}{1 + \\exp(-x)}$\n",
        "    - En la cuarta columna 1 si el valor de la segunda columna es mayor que cero y -1 en otro caso (revisa la función np.where)\n",
        "    - En la quinta columna valores aleatorios de acuerdo a una distribución gaussiana con media 1 y varianza 0.5\n",
        "        \n",
        "* Encuentra un arreglo con todos los valores de la función logística, cuando el valor absoluto del seno de x es menor a 0.5\n",
        "    \n",
        "* Convierte este arraglo en una matriz con 5 columnas y los renglones que sean necesarios.\n",
        "        "
      ]
    },
    {
      "cell_type": "code",
      "execution_count": null,
      "metadata": {
        "collapsed": true,
        "id": "C4ij6tM___Kf"
      },
      "outputs": [],
      "source": [
        "# Escribe aqui tu código"
      ]
    },
    {
      "cell_type": "markdown",
      "metadata": {
        "id": "mngYCGUp__Kf"
      },
      "source": [
        "Además de estas funciones, numpy cuenta con funciones del algebra lineal altamente optimizadas (aunque no paralelizadas), las cuales son (entre otras):\n",
        "\n",
        "* `np.linalg.inv(a)`: Inversa de a\n",
        "* `np.linalg.pinv(a)`: Pseudoinversa de Ross-Penrose de a (muy útil para nosotros)\n",
        "* `np.linalg.det(a)`: determinante de a\n",
        "* `np.linalg.eig(a)`: eigenvalores y eigenvectores de a\n",
        "* `np.linalg.svd(a)`: Valores singulares de a"
      ]
    },
    {
      "cell_type": "markdown",
      "metadata": {
        "id": "Qk-zZmzX__Kf"
      },
      "source": [
        "## Haciendo gráficas sencillas con Matplotlib"
      ]
    },
    {
      "cell_type": "markdown",
      "metadata": {
        "id": "mWN5StSf__Kf"
      },
      "source": [
        "La mejor manera de mostrar como funcionan las facilidades que ofrece matplotlib, es mostrando directamente su uso más sencillo,\n",
        "así que veamos un ejemplo muy simple. Es importante recordar que en la primer celda de esta libreta se definió la manera de realizar las gráficas (dentro del documento y no como figuras aparte), así como se cargo matplotlib en el espacio de nombres plt."
      ]
    },
    {
      "cell_type": "code",
      "execution_count": null,
      "metadata": {
        "id": "AUQXH_JS__Kf"
      },
      "outputs": [],
      "source": [
        "# Vamos a hacerlo pasito a pasito\n",
        "\n",
        "# Primero obtenemos un vector x\n",
        "x = np.linspace(-np.pi, np.pi, 1000)\n",
        "\n",
        "# Luego obtenemos un vector y bastante trivial\n",
        "y = np.sin(x)\n",
        "\n",
        "# Y ahora hacemos una gráfica bastante básica de x y y\n",
        "plt.plot(x, y)\n",
        "plt.xlabel(\"el eje de las x's\")\n",
        "plt.ylabel(\"el eje de las y's\")\n",
        "plt.title(\"Este es un plot bastante trivial y sin mucho chiste\")\n",
        "\n",
        "# Bueno como la gráfica no esta muy bien a lo mejor se ve mejor si modificamos los limites de los ejes\n",
        "plt.axis([-3.1416, 3.1416, -1.1, 1.1])"
      ]
    },
    {
      "cell_type": "markdown",
      "metadata": {
        "id": "m4Gq3I_M__Kk"
      },
      "source": [
        "Aunque a veces queremos hacer unas gráficas más bien indicativas por lo que un estilo más informal podría ser útil:\n"
      ]
    },
    {
      "cell_type": "code",
      "execution_count": null,
      "metadata": {
        "id": "sVje-on8__Kk"
      },
      "outputs": [],
      "source": [
        "with plt.xkcd():\n",
        "    plt.plot(x, y)\n",
        "    plt.xlabel(\"el eje de las x's\")\n",
        "    plt.ylabel(\"el eje de las y's\")\n",
        "    plt.title(\"Este es un plot bastante trivial y sin mucho chiste\")\n",
        "    plt.axis([-3.1416, 3.1416, -1.1, 1.1])"
      ]
    },
    {
      "cell_type": "markdown",
      "metadata": {
        "id": "4YyjYJZ5__Kl"
      },
      "source": [
        "Hay que tener mucho cuidado, ya que si no se utiliza plt.xkcd() dentro de un with, entonces va a modificar todas las graficas que se realicen en la libreta (a veces es deseable, pero es una mejor práctica de programación hacerlo así)."
      ]
    },
    {
      "cell_type": "code",
      "execution_count": null,
      "metadata": {
        "id": "fhdULCPM__Kl"
      },
      "outputs": [],
      "source": [
        "with plt.style.context(('ggplot')):\n",
        "    plt.plot(x, y)\n",
        "    plt.xlabel(\"el eje de las x's\")\n",
        "    plt.ylabel(\"el eje de las y's\")\n",
        "    plt.title(\"Este es un plot bastante trivial y sin mucho chiste\")\n",
        "    plt.axis([-3.1416, 3.1416, -1.1, 1.1])"
      ]
    },
    {
      "cell_type": "markdown",
      "metadata": {
        "id": "neylFNMI__Kl"
      },
      "source": [
        "Ahora hagamos una gráfica con varios valores diferentes"
      ]
    },
    {
      "cell_type": "code",
      "execution_count": null,
      "metadata": {
        "id": "8AzBp5qf__Km"
      },
      "outputs": [],
      "source": [
        "plt.plot(x, np.sin(x), label='seno')\n",
        "\n",
        "plt.plot(x, 1/(1 + np.exp(-x)), label=u\"logística\")\n",
        "\n",
        "plt.plot(x, (0.2 * x * x) - 0.5, label=r'$0.2 x^2 - 0.5$')\n",
        "\n",
        "plt.axis([-3.1416, 3.1416, -1.1, 1.4])\n",
        "\n",
        "plt.title(\"Tres funciones piteras juntas\")\n",
        "plt.xlabel(r\"$\\theta$ (rad)\")\n",
        "plt.ylabel(\"magnitud\")\n",
        "\n",
        "plt.legend(loc=0)"
      ]
    },
    {
      "cell_type": "markdown",
      "metadata": {
        "id": "cNJNWw2-__Km"
      },
      "source": [
        "Hay muchos tipos de funciones, lo mejor para saber como ustilizar matplotlib es ver la galeria de ejemplo que se encuentran en la ayuda,\n",
        "y pueden consultarse en http://matplotlib.org/gallery.html (al darle click a una imagen se puede ver el código que la genera).\n",
        "\n",
        "Por ejemplo si queremos una gráfica tipo pay:"
      ]
    },
    {
      "cell_type": "code",
      "execution_count": null,
      "metadata": {
        "id": "8-FjrkJK__Km"
      },
      "outputs": [],
      "source": [
        "labels = 'Tortas', 'Taquitos', 'Burros', 'Ensaladas'\n",
        "porcentajes = [15, 30, 45, 10]\n",
        "colores = ['yellowgreen', 'gold', 'lightskyblue', 'lightcoral']\n",
        "separa = (0, 0.1, 0, 0) # solo separa la segunda rebanada (i.e. 'Taquitos')\n",
        "\n",
        "plt.pie(\n",
        "    porcentajes, explode=separa, labels=labels, colors=colores,\n",
        "    autopct='%1.1f%%', shadow=True, startangle=90\n",
        ")\n",
        "plt.axis('equal') #Para que el pay se vea como un círculo\n",
        "plt.xlabel(u'Lo que como cuando me quedo en la UNISON a mediodía')\n"
      ]
    },
    {
      "cell_type": "markdown",
      "metadata": {
        "id": "G58VzZVQ__Kn"
      },
      "source": [
        "O si queremos una gráfica tipo contorno con todo y datos"
      ]
    },
    {
      "cell_type": "code",
      "execution_count": null,
      "metadata": {
        "id": "cp3r2Pu9__Ko"
      },
      "outputs": [],
      "source": [
        "import matplotlib.cm as cm\n",
        "\n",
        "delta = 0.025\n",
        "x = np.arange(-3.0, 3.0, delta)\n",
        "y = np.arange(-2.0, 2.0, delta)\n",
        "X, Y = np.meshgrid(x, y)\n",
        "Z1 = np.exp(-X**2 - Y**2)\n",
        "Z2 = np.exp(-(X - 1)**2 - (Y - 1)**2)\n",
        "Z = (Z1 - Z2) * 2\n",
        "\n",
        "CS = plt.contour(X, Y, Z)\n",
        "plt.clabel(CS, fontsize=10)\n",
        "plt.title('Grafica simple de contorno')\n",
        "plt.show()"
      ]
    },
    {
      "cell_type": "markdown",
      "metadata": {
        "id": "I9-fUqWc__Ko"
      },
      "source": [
        "Por último, un detalle muy importante y que puede ser de mucha utilidad: La generación de subplots. Una figura puede contener varias subgraficas, para esto hay que especificar en cuantas gráficas vamos a dividir la figura en forma de renglones y columnas, y luego seleccionar la subgráfica en la que vamos a graficar. Por ejemplo\n",
        "\n",
        "    plt.subplot(2,2,1)\n",
        "    \n",
        "significa que la figura la vamos a dividir en 2 renglones y dos columnas (cuatro subgráficas) y vamos a escribir sobre la subgráfica 1. Lo mejor es ilustrarlo con un ejemplo muy simple."
      ]
    },
    {
      "cell_type": "code",
      "execution_count": null,
      "metadata": {
        "id": "xxQrYphF__Ko"
      },
      "outputs": [],
      "source": [
        "x = np.linspace(0, 5, 1000)\n",
        "y1 = np.exp(-0.2 * x) * np.cos(2 * np.pi * x)\n",
        "y2 = np.cos(2 * np.pi * x)\n",
        "y3 = np.exp(0.2 * x) * np.cos(2 * np.pi * x)\n",
        "y4 = np.exp(-0.1 * x)\n",
        "\n",
        "plt.subplot(2, 2, 1)\n",
        "plt.plot(x, y1)\n",
        "plt.title('Estable subamortiguado')\n",
        "\n",
        "plt.subplot(2, 2, 2)\n",
        "plt.plot(x, y2)\n",
        "plt.title('Criticamente estable')\n",
        "\n",
        "plt.subplot(2, 2, 3)\n",
        "plt.plot(x, y3)\n",
        "plt.title('inestable')\n",
        "\n",
        "plt.subplot(2, 2, 4)\n",
        "plt.plot(x, y4)\n",
        "plt.title('Estable sobreamortiguado')\n",
        "\n"
      ]
    },
    {
      "cell_type": "markdown",
      "metadata": {
        "id": "SHxgBQsq__Ko"
      },
      "source": [
        "### Ultimo trabajo"
      ]
    },
    {
      "cell_type": "markdown",
      "metadata": {
        "id": "ShExsQHJ__Kp"
      },
      "source": [
        "Realiza lo siguiente en varias celdas abajo de esta:\n",
        "\n",
        "* Genera un vector de 1000 datos aleatorios distribuidos de acuerdo a una gaussiana con media 3 y varianza .5, y otro vector con 1000 datos aleatorios distribuidos con una media 0 y una varianza unitaria. Al concatenar los dos vectores, estás generando una serie de datos proveniente de una distribución conocida como suma de gaussianas. Para ver como es esta distribución de datos, grafíca un histograma (con un número suficiente de bins).\n",
        "\n",
        "* Genera un vector de datos de entrada `x = np.linspace(0, 1, 1000)` y grafica $\\sin(2\\pi x)$, $\\sin(4\\pi x)$, $\\sin(8\\pi x)$. ¿Que conlusión puedes sacar al respecto? Realiza la gráfica con titulo, ejes, etiquetas y todo lo necesario para que sea publicable.\n",
        "\n",
        "* Grafíca la función $e^{-t}\\cos(2\\pi t)$ para $t \\in [0, 5]$. Asegurate que la gráfica sea una linea punteada de color rojo, que la gráfica tenga título, etiqueta en el eje de $t$ (tiempo), etiqueta en el eje de $y$ (voltaje en $\\mu$V), y una nota donde se escriba la ecuación simulada.\n",
        "\n",
        "* Copia el ejemplo de la galería de matplotlib http://matplotlib.org/examples/pylab_examples/shading_example.html y modificalo para que se grafique dentro de la libreta. Una vez funcionando, comenta *cada linea de código* dejando bien claro **en español y con tus palabras** que es lo que hace cada una de las lineas."
      ]
    },
    {
      "cell_type": "code",
      "execution_count": null,
      "metadata": {
        "id": "0QwHRJJU__Kp"
      },
      "outputs": [],
      "source": [
        "#Agrega aqui el primer problema y resualve cada problema en una celda independiente."
      ]
    }
  ],
  "metadata": {
    "kernelspec": {
      "display_name": "pandas",
      "language": "python",
      "name": "python3"
    },
    "language_info": {
      "codemirror_mode": {
        "name": "ipython",
        "version": 3
      },
      "file_extension": ".py",
      "mimetype": "text/x-python",
      "name": "python",
      "nbconvert_exporter": "python",
      "pygments_lexer": "ipython3",
      "version": "3.12.5"
    },
    "colab": {
      "provenance": [],
      "toc_visible": true
    }
  },
  "nbformat": 4,
  "nbformat_minor": 0
}